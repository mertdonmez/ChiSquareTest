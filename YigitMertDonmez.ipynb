{
 "cells": [
  {
   "cell_type": "code",
   "execution_count": 1,
   "metadata": {},
   "outputs": [],
   "source": [
    "import pandas as pd \n",
    "import numpy\n",
    "import matplotlib.pyplot as plt\n",
    "import seaborn\n",
    "%matplotlib inline \n",
    "import warnings\n",
    "warnings.filterwarnings('ignore')"
   ]
  },
  {
   "cell_type": "code",
   "execution_count": 2,
   "metadata": {},
   "outputs": [],
   "source": [
    "#cancer data"
   ]
  },
  {
   "cell_type": "code",
   "execution_count": 3,
   "metadata": {},
   "outputs": [
    {
     "data": {
      "text/plain": [
       "Index(['country', '1955', '1956', '1957', '1958', '1959', '1960', '1961',\n",
       "       '1962', '1963', '1964', '1965', '1966', '1967', '1968', '1969', '1970',\n",
       "       '1971', '1972', '1973', '1974', '1975', '1976', '1977', '1978', '1979',\n",
       "       '1980', '1981', '1982', '1983', '1984', '1985', '1986', '1987', '1988',\n",
       "       '1989', '1990', '1991', '1992', '1993', '1994', '1995', '1996', '1997',\n",
       "       '1998', '1999', '2000', '2001', '2002', '2003', '2004', '2005', '2006',\n",
       "       '2007', '2008', '2009', '2010', '2011', '2012', '2013', '2014', '2015',\n",
       "       '2016'],\n",
       "      dtype='object')"
      ]
     },
     "execution_count": 3,
     "metadata": {},
     "output_type": "execute_result"
    }
   ],
   "source": [
    "cancer= pd.read_csv('colonandrectum_cancer_deaths_per_100000_men.csv')\n",
    "cancer.columns"
   ]
  },
  {
   "cell_type": "code",
   "execution_count": 4,
   "metadata": {},
   "outputs": [
    {
     "data": {
      "text/html": [
       "<div>\n",
       "<style scoped>\n",
       "    .dataframe tbody tr th:only-of-type {\n",
       "        vertical-align: middle;\n",
       "    }\n",
       "\n",
       "    .dataframe tbody tr th {\n",
       "        vertical-align: top;\n",
       "    }\n",
       "\n",
       "    .dataframe thead th {\n",
       "        text-align: right;\n",
       "    }\n",
       "</style>\n",
       "<table border=\"1\" class=\"dataframe\">\n",
       "  <thead>\n",
       "    <tr style=\"text-align: right;\">\n",
       "      <th></th>\n",
       "      <th>country</th>\n",
       "      <th>year</th>\n",
       "      <th>cancer_value</th>\n",
       "    </tr>\n",
       "  </thead>\n",
       "  <tbody>\n",
       "    <tr>\n",
       "      <th>0</th>\n",
       "      <td>Afghanistan</td>\n",
       "      <td>1955</td>\n",
       "      <td>NaN</td>\n",
       "    </tr>\n",
       "    <tr>\n",
       "      <th>1</th>\n",
       "      <td>Afghanistan</td>\n",
       "      <td>1956</td>\n",
       "      <td>NaN</td>\n",
       "    </tr>\n",
       "    <tr>\n",
       "      <th>2</th>\n",
       "      <td>Afghanistan</td>\n",
       "      <td>1957</td>\n",
       "      <td>NaN</td>\n",
       "    </tr>\n",
       "    <tr>\n",
       "      <th>3</th>\n",
       "      <td>Afghanistan</td>\n",
       "      <td>1958</td>\n",
       "      <td>NaN</td>\n",
       "    </tr>\n",
       "    <tr>\n",
       "      <th>4</th>\n",
       "      <td>Afghanistan</td>\n",
       "      <td>1959</td>\n",
       "      <td>NaN</td>\n",
       "    </tr>\n",
       "  </tbody>\n",
       "</table>\n",
       "</div>"
      ],
      "text/plain": [
       "       country  year  cancer_value\n",
       "0  Afghanistan  1955           NaN\n",
       "1  Afghanistan  1956           NaN\n",
       "2  Afghanistan  1957           NaN\n",
       "3  Afghanistan  1958           NaN\n",
       "4  Afghanistan  1959           NaN"
      ]
     },
     "execution_count": 4,
     "metadata": {},
     "output_type": "execute_result"
    }
   ],
   "source": [
    "new_cancer = pd.melt(cancer , id_vars=[\"country\"])\n",
    "new_cancer.rename(columns = {'variable':'year' , 'value':'cancer_value'} , inplace=True)\n",
    "new_cancer.sort_values(['country' , 'year' , 'cancer_value'],inplace=True)\n",
    "new_cancer.set_index('country',inplace=True)\n",
    "new_cancer.reset_index(inplace=True)\n",
    "new_cancer.head(5)"
   ]
  },
  {
   "cell_type": "code",
   "execution_count": 5,
   "metadata": {},
   "outputs": [
    {
     "name": "stdout",
     "output_type": "stream",
     "text": [
      "RangeIndex(start=0, stop=11594, step=1)\n"
     ]
    },
    {
     "data": {
      "text/html": [
       "<div>\n",
       "<style scoped>\n",
       "    .dataframe tbody tr th:only-of-type {\n",
       "        vertical-align: middle;\n",
       "    }\n",
       "\n",
       "    .dataframe tbody tr th {\n",
       "        vertical-align: top;\n",
       "    }\n",
       "\n",
       "    .dataframe thead th {\n",
       "        text-align: right;\n",
       "    }\n",
       "</style>\n",
       "<table border=\"1\" class=\"dataframe\">\n",
       "  <thead>\n",
       "    <tr style=\"text-align: right;\">\n",
       "      <th></th>\n",
       "      <th>country</th>\n",
       "      <th>year</th>\n",
       "      <th>cancer_value</th>\n",
       "    </tr>\n",
       "  </thead>\n",
       "  <tbody>\n",
       "    <tr>\n",
       "      <th>0</th>\n",
       "      <td>Afghanistan</td>\n",
       "      <td>1955</td>\n",
       "      <td>NaN</td>\n",
       "    </tr>\n",
       "    <tr>\n",
       "      <th>1</th>\n",
       "      <td>Afghanistan</td>\n",
       "      <td>1956</td>\n",
       "      <td>NaN</td>\n",
       "    </tr>\n",
       "    <tr>\n",
       "      <th>2</th>\n",
       "      <td>Afghanistan</td>\n",
       "      <td>1957</td>\n",
       "      <td>NaN</td>\n",
       "    </tr>\n",
       "    <tr>\n",
       "      <th>3</th>\n",
       "      <td>Afghanistan</td>\n",
       "      <td>1958</td>\n",
       "      <td>NaN</td>\n",
       "    </tr>\n",
       "    <tr>\n",
       "      <th>4</th>\n",
       "      <td>Afghanistan</td>\n",
       "      <td>1959</td>\n",
       "      <td>NaN</td>\n",
       "    </tr>\n",
       "  </tbody>\n",
       "</table>\n",
       "</div>"
      ],
      "text/plain": [
       "       country  year  cancer_value\n",
       "0  Afghanistan  1955           NaN\n",
       "1  Afghanistan  1956           NaN\n",
       "2  Afghanistan  1957           NaN\n",
       "3  Afghanistan  1958           NaN\n",
       "4  Afghanistan  1959           NaN"
      ]
     },
     "execution_count": 5,
     "metadata": {},
     "output_type": "execute_result"
    }
   ],
   "source": [
    "print(new_cancer.index)\n",
    "new_cancer.head(5)"
   ]
  },
  {
   "cell_type": "code",
   "execution_count": 6,
   "metadata": {},
   "outputs": [
    {
     "name": "stdout",
     "output_type": "stream",
     "text": [
      "cancer original length: 11594\n",
      "cancer new length: 6204\n"
     ]
    }
   ],
   "source": [
    "# Remove missing values: \n",
    "# dropna():dropped DataFrame\n",
    "print('cancer original length: '+ str(len(new_cancer)))\n",
    "cancer_NoMissing= new_cancer.dropna() \n",
    "\n",
    "# default drop method: if all values are NA, drop that label\n",
    "print('cancer new length: '+ str(len(cancer_NoMissing)))"
   ]
  },
  {
   "cell_type": "code",
   "execution_count": 7,
   "metadata": {},
   "outputs": [
    {
     "data": {
      "text/html": [
       "<div>\n",
       "<style scoped>\n",
       "    .dataframe tbody tr th:only-of-type {\n",
       "        vertical-align: middle;\n",
       "    }\n",
       "\n",
       "    .dataframe tbody tr th {\n",
       "        vertical-align: top;\n",
       "    }\n",
       "\n",
       "    .dataframe thead th {\n",
       "        text-align: right;\n",
       "    }\n",
       "</style>\n",
       "<table border=\"1\" class=\"dataframe\">\n",
       "  <thead>\n",
       "    <tr style=\"text-align: right;\">\n",
       "      <th></th>\n",
       "      <th>country</th>\n",
       "      <th>year</th>\n",
       "      <th>cancer_value</th>\n",
       "    </tr>\n",
       "  </thead>\n",
       "  <tbody>\n",
       "    <tr>\n",
       "      <th>0</th>\n",
       "      <td>Afghanistan</td>\n",
       "      <td>1990</td>\n",
       "      <td>8.27</td>\n",
       "    </tr>\n",
       "    <tr>\n",
       "      <th>1</th>\n",
       "      <td>Afghanistan</td>\n",
       "      <td>1991</td>\n",
       "      <td>8.35</td>\n",
       "    </tr>\n",
       "    <tr>\n",
       "      <th>2</th>\n",
       "      <td>Afghanistan</td>\n",
       "      <td>1992</td>\n",
       "      <td>8.44</td>\n",
       "    </tr>\n",
       "    <tr>\n",
       "      <th>3</th>\n",
       "      <td>Afghanistan</td>\n",
       "      <td>1993</td>\n",
       "      <td>8.55</td>\n",
       "    </tr>\n",
       "    <tr>\n",
       "      <th>4</th>\n",
       "      <td>Afghanistan</td>\n",
       "      <td>1994</td>\n",
       "      <td>8.66</td>\n",
       "    </tr>\n",
       "    <tr>\n",
       "      <th>5</th>\n",
       "      <td>Afghanistan</td>\n",
       "      <td>1995</td>\n",
       "      <td>8.74</td>\n",
       "    </tr>\n",
       "    <tr>\n",
       "      <th>6</th>\n",
       "      <td>Afghanistan</td>\n",
       "      <td>1996</td>\n",
       "      <td>8.82</td>\n",
       "    </tr>\n",
       "    <tr>\n",
       "      <th>7</th>\n",
       "      <td>Afghanistan</td>\n",
       "      <td>1997</td>\n",
       "      <td>8.88</td>\n",
       "    </tr>\n",
       "    <tr>\n",
       "      <th>8</th>\n",
       "      <td>Afghanistan</td>\n",
       "      <td>1998</td>\n",
       "      <td>8.94</td>\n",
       "    </tr>\n",
       "    <tr>\n",
       "      <th>9</th>\n",
       "      <td>Afghanistan</td>\n",
       "      <td>1999</td>\n",
       "      <td>9.06</td>\n",
       "    </tr>\n",
       "  </tbody>\n",
       "</table>\n",
       "</div>"
      ],
      "text/plain": [
       "       country  year  cancer_value\n",
       "0  Afghanistan  1990          8.27\n",
       "1  Afghanistan  1991          8.35\n",
       "2  Afghanistan  1992          8.44\n",
       "3  Afghanistan  1993          8.55\n",
       "4  Afghanistan  1994          8.66\n",
       "5  Afghanistan  1995          8.74\n",
       "6  Afghanistan  1996          8.82\n",
       "7  Afghanistan  1997          8.88\n",
       "8  Afghanistan  1998          8.94\n",
       "9  Afghanistan  1999          9.06"
      ]
     },
     "execution_count": 7,
     "metadata": {},
     "output_type": "execute_result"
    }
   ],
   "source": [
    "cancer_NoMissing.set_index('country',inplace=True)\n",
    "cancer_NoMissing.reset_index(inplace=True)\n",
    "cancer_NoMissing.head(10)"
   ]
  },
  {
   "cell_type": "code",
   "execution_count": 8,
   "metadata": {},
   "outputs": [
    {
     "data": {
      "text/plain": [
       "RangeIndex(start=0, stop=6204, step=1)"
      ]
     },
     "execution_count": 8,
     "metadata": {},
     "output_type": "execute_result"
    }
   ],
   "source": [
    "# be careful about the indexes:\n",
    "cancer_NoMissing.index # note that the index does not start from zero!\n",
    "cancer_NoMissing.index= range(len(cancer_NoMissing))\n",
    "cancer_NoMissing.index"
   ]
  },
  {
   "cell_type": "code",
   "execution_count": 9,
   "metadata": {},
   "outputs": [],
   "source": [
    "#industry_workers data"
   ]
  },
  {
   "cell_type": "code",
   "execution_count": 10,
   "metadata": {},
   "outputs": [
    {
     "name": "stdout",
     "output_type": "stream",
     "text": [
      "Index(['country', '1970', '1971', '1972', '1973', '1974', '1975', '1976',\n",
      "       '1977', '1978', '1979', '1980', '1981', '1982', '1983', '1984', '1985',\n",
      "       '1986', '1987', '1988', '1989', '1990', '1991', '1992', '1993', '1994',\n",
      "       '1995', '1996', '1997', '1998', '1999', '2000', '2001', '2002', '2003',\n",
      "       '2004', '2005', '2006', '2007', '2008', '2009', '2010', '2011', '2012',\n",
      "       '2013', '2014', '2015', '2016', '2017'],\n",
      "      dtype='object')\n"
     ]
    }
   ],
   "source": [
    "workers= pd.read_csv('industry_workers_percent_of_employment.csv')\n",
    "print(workers.columns)"
   ]
  },
  {
   "cell_type": "code",
   "execution_count": 11,
   "metadata": {},
   "outputs": [
    {
     "data": {
      "text/html": [
       "<div>\n",
       "<style scoped>\n",
       "    .dataframe tbody tr th:only-of-type {\n",
       "        vertical-align: middle;\n",
       "    }\n",
       "\n",
       "    .dataframe tbody tr th {\n",
       "        vertical-align: top;\n",
       "    }\n",
       "\n",
       "    .dataframe thead th {\n",
       "        text-align: right;\n",
       "    }\n",
       "</style>\n",
       "<table border=\"1\" class=\"dataframe\">\n",
       "  <thead>\n",
       "    <tr style=\"text-align: right;\">\n",
       "      <th></th>\n",
       "      <th>country</th>\n",
       "      <th>year</th>\n",
       "      <th>workers_value</th>\n",
       "    </tr>\n",
       "  </thead>\n",
       "  <tbody>\n",
       "    <tr>\n",
       "      <th>0</th>\n",
       "      <td>Afghanistan</td>\n",
       "      <td>1970</td>\n",
       "      <td>NaN</td>\n",
       "    </tr>\n",
       "    <tr>\n",
       "      <th>1</th>\n",
       "      <td>Afghanistan</td>\n",
       "      <td>1971</td>\n",
       "      <td>NaN</td>\n",
       "    </tr>\n",
       "    <tr>\n",
       "      <th>2</th>\n",
       "      <td>Afghanistan</td>\n",
       "      <td>1972</td>\n",
       "      <td>NaN</td>\n",
       "    </tr>\n",
       "    <tr>\n",
       "      <th>3</th>\n",
       "      <td>Afghanistan</td>\n",
       "      <td>1973</td>\n",
       "      <td>NaN</td>\n",
       "    </tr>\n",
       "    <tr>\n",
       "      <th>4</th>\n",
       "      <td>Afghanistan</td>\n",
       "      <td>1974</td>\n",
       "      <td>NaN</td>\n",
       "    </tr>\n",
       "    <tr>\n",
       "      <th>5</th>\n",
       "      <td>Afghanistan</td>\n",
       "      <td>1975</td>\n",
       "      <td>NaN</td>\n",
       "    </tr>\n",
       "    <tr>\n",
       "      <th>6</th>\n",
       "      <td>Afghanistan</td>\n",
       "      <td>1976</td>\n",
       "      <td>NaN</td>\n",
       "    </tr>\n",
       "    <tr>\n",
       "      <th>7</th>\n",
       "      <td>Afghanistan</td>\n",
       "      <td>1977</td>\n",
       "      <td>NaN</td>\n",
       "    </tr>\n",
       "    <tr>\n",
       "      <th>8</th>\n",
       "      <td>Afghanistan</td>\n",
       "      <td>1978</td>\n",
       "      <td>NaN</td>\n",
       "    </tr>\n",
       "    <tr>\n",
       "      <th>9</th>\n",
       "      <td>Afghanistan</td>\n",
       "      <td>1979</td>\n",
       "      <td>NaN</td>\n",
       "    </tr>\n",
       "  </tbody>\n",
       "</table>\n",
       "</div>"
      ],
      "text/plain": [
       "       country  year  workers_value\n",
       "0  Afghanistan  1970            NaN\n",
       "1  Afghanistan  1971            NaN\n",
       "2  Afghanistan  1972            NaN\n",
       "3  Afghanistan  1973            NaN\n",
       "4  Afghanistan  1974            NaN\n",
       "5  Afghanistan  1975            NaN\n",
       "6  Afghanistan  1976            NaN\n",
       "7  Afghanistan  1977            NaN\n",
       "8  Afghanistan  1978            NaN\n",
       "9  Afghanistan  1979            NaN"
      ]
     },
     "execution_count": 11,
     "metadata": {},
     "output_type": "execute_result"
    }
   ],
   "source": [
    "\n",
    "\n",
    "new_workers = pd.melt(workers , id_vars=[\"country\"])\n",
    "new_workers.rename(columns = {'variable':'year' , 'value':'workers_value'} , inplace=True)\n",
    "new_workers.sort_values(['country' , 'year' , 'workers_value'],inplace=True)\n",
    "new_workers.set_index('country',inplace=True)\n",
    "new_workers.reset_index(inplace=True)\n",
    "new_workers.head(10)\n"
   ]
  },
  {
   "cell_type": "code",
   "execution_count": 12,
   "metadata": {},
   "outputs": [
    {
     "name": "stdout",
     "output_type": "stream",
     "text": [
      "workers rate original length: 8448\n",
      "workers rate new length: 3534\n"
     ]
    }
   ],
   "source": [
    "print('workers rate original length: '+ str(len(new_workers)))\n",
    "workers_NoMissing= new_workers.dropna()\n",
    "print('workers rate new length: '+ str(len(workers_NoMissing)))"
   ]
  },
  {
   "cell_type": "code",
   "execution_count": 13,
   "metadata": {},
   "outputs": [
    {
     "data": {
      "text/html": [
       "<div>\n",
       "<style scoped>\n",
       "    .dataframe tbody tr th:only-of-type {\n",
       "        vertical-align: middle;\n",
       "    }\n",
       "\n",
       "    .dataframe tbody tr th {\n",
       "        vertical-align: top;\n",
       "    }\n",
       "\n",
       "    .dataframe thead th {\n",
       "        text-align: right;\n",
       "    }\n",
       "</style>\n",
       "<table border=\"1\" class=\"dataframe\">\n",
       "  <thead>\n",
       "    <tr style=\"text-align: right;\">\n",
       "      <th></th>\n",
       "      <th>country</th>\n",
       "      <th>year</th>\n",
       "      <th>workers_value</th>\n",
       "    </tr>\n",
       "  </thead>\n",
       "  <tbody>\n",
       "    <tr>\n",
       "      <th>0</th>\n",
       "      <td>Afghanistan</td>\n",
       "      <td>2008</td>\n",
       "      <td>12.40</td>\n",
       "    </tr>\n",
       "    <tr>\n",
       "      <th>1</th>\n",
       "      <td>Afghanistan</td>\n",
       "      <td>2012</td>\n",
       "      <td>16.60</td>\n",
       "    </tr>\n",
       "    <tr>\n",
       "      <th>2</th>\n",
       "      <td>Albania</td>\n",
       "      <td>1994</td>\n",
       "      <td>11.00</td>\n",
       "    </tr>\n",
       "    <tr>\n",
       "      <th>3</th>\n",
       "      <td>Albania</td>\n",
       "      <td>1995</td>\n",
       "      <td>10.20</td>\n",
       "    </tr>\n",
       "    <tr>\n",
       "      <th>4</th>\n",
       "      <td>Albania</td>\n",
       "      <td>1996</td>\n",
       "      <td>9.59</td>\n",
       "    </tr>\n",
       "    <tr>\n",
       "      <th>5</th>\n",
       "      <td>Albania</td>\n",
       "      <td>1997</td>\n",
       "      <td>9.30</td>\n",
       "    </tr>\n",
       "    <tr>\n",
       "      <th>6</th>\n",
       "      <td>Albania</td>\n",
       "      <td>1998</td>\n",
       "      <td>8.76</td>\n",
       "    </tr>\n",
       "    <tr>\n",
       "      <th>7</th>\n",
       "      <td>Albania</td>\n",
       "      <td>1999</td>\n",
       "      <td>8.73</td>\n",
       "    </tr>\n",
       "    <tr>\n",
       "      <th>8</th>\n",
       "      <td>Albania</td>\n",
       "      <td>2000</td>\n",
       "      <td>6.65</td>\n",
       "    </tr>\n",
       "    <tr>\n",
       "      <th>9</th>\n",
       "      <td>Albania</td>\n",
       "      <td>2001</td>\n",
       "      <td>6.49</td>\n",
       "    </tr>\n",
       "  </tbody>\n",
       "</table>\n",
       "</div>"
      ],
      "text/plain": [
       "       country  year  workers_value\n",
       "0  Afghanistan  2008          12.40\n",
       "1  Afghanistan  2012          16.60\n",
       "2      Albania  1994          11.00\n",
       "3      Albania  1995          10.20\n",
       "4      Albania  1996           9.59\n",
       "5      Albania  1997           9.30\n",
       "6      Albania  1998           8.76\n",
       "7      Albania  1999           8.73\n",
       "8      Albania  2000           6.65\n",
       "9      Albania  2001           6.49"
      ]
     },
     "execution_count": 13,
     "metadata": {},
     "output_type": "execute_result"
    }
   ],
   "source": [
    "workers_NoMissing.set_index('country',inplace=True)\n",
    "workers_NoMissing.reset_index(inplace=True)\n",
    "workers_NoMissing.sort_values(['country' , 'year' , 'workers_value'],inplace=True)\n",
    "workers_NoMissing.head(10)"
   ]
  },
  {
   "cell_type": "code",
   "execution_count": 14,
   "metadata": {},
   "outputs": [
    {
     "data": {
      "text/plain": [
       "RangeIndex(start=0, stop=3534, step=1)"
      ]
     },
     "execution_count": 14,
     "metadata": {},
     "output_type": "execute_result"
    }
   ],
   "source": [
    "workers_NoMissing.index= range(len(workers_NoMissing))\n",
    "workers_NoMissing.index"
   ]
  },
  {
   "cell_type": "code",
   "execution_count": 15,
   "metadata": {},
   "outputs": [
    {
     "data": {
      "text/html": [
       "<div>\n",
       "<style scoped>\n",
       "    .dataframe tbody tr th:only-of-type {\n",
       "        vertical-align: middle;\n",
       "    }\n",
       "\n",
       "    .dataframe tbody tr th {\n",
       "        vertical-align: top;\n",
       "    }\n",
       "\n",
       "    .dataframe thead th {\n",
       "        text-align: right;\n",
       "    }\n",
       "</style>\n",
       "<table border=\"1\" class=\"dataframe\">\n",
       "  <thead>\n",
       "    <tr style=\"text-align: right;\">\n",
       "      <th></th>\n",
       "      <th>country</th>\n",
       "      <th>year</th>\n",
       "      <th>cancer_value</th>\n",
       "    </tr>\n",
       "  </thead>\n",
       "  <tbody>\n",
       "    <tr>\n",
       "      <th>0</th>\n",
       "      <td>Afghanistan</td>\n",
       "      <td>1990</td>\n",
       "      <td>8.27</td>\n",
       "    </tr>\n",
       "    <tr>\n",
       "      <th>1</th>\n",
       "      <td>Afghanistan</td>\n",
       "      <td>1991</td>\n",
       "      <td>8.35</td>\n",
       "    </tr>\n",
       "    <tr>\n",
       "      <th>2</th>\n",
       "      <td>Afghanistan</td>\n",
       "      <td>1992</td>\n",
       "      <td>8.44</td>\n",
       "    </tr>\n",
       "    <tr>\n",
       "      <th>3</th>\n",
       "      <td>Afghanistan</td>\n",
       "      <td>1993</td>\n",
       "      <td>8.55</td>\n",
       "    </tr>\n",
       "    <tr>\n",
       "      <th>4</th>\n",
       "      <td>Afghanistan</td>\n",
       "      <td>1994</td>\n",
       "      <td>8.66</td>\n",
       "    </tr>\n",
       "  </tbody>\n",
       "</table>\n",
       "</div>"
      ],
      "text/plain": [
       "       country  year  cancer_value\n",
       "0  Afghanistan  1990          8.27\n",
       "1  Afghanistan  1991          8.35\n",
       "2  Afghanistan  1992          8.44\n",
       "3  Afghanistan  1993          8.55\n",
       "4  Afghanistan  1994          8.66"
      ]
     },
     "execution_count": 15,
     "metadata": {},
     "output_type": "execute_result"
    }
   ],
   "source": [
    "cancer_NoMissing.head(5)"
   ]
  },
  {
   "cell_type": "code",
   "execution_count": 16,
   "metadata": {},
   "outputs": [
    {
     "data": {
      "text/html": [
       "<div>\n",
       "<style scoped>\n",
       "    .dataframe tbody tr th:only-of-type {\n",
       "        vertical-align: middle;\n",
       "    }\n",
       "\n",
       "    .dataframe tbody tr th {\n",
       "        vertical-align: top;\n",
       "    }\n",
       "\n",
       "    .dataframe thead th {\n",
       "        text-align: right;\n",
       "    }\n",
       "</style>\n",
       "<table border=\"1\" class=\"dataframe\">\n",
       "  <thead>\n",
       "    <tr style=\"text-align: right;\">\n",
       "      <th></th>\n",
       "      <th>country</th>\n",
       "      <th>year</th>\n",
       "      <th>workers_value</th>\n",
       "    </tr>\n",
       "  </thead>\n",
       "  <tbody>\n",
       "    <tr>\n",
       "      <th>0</th>\n",
       "      <td>Afghanistan</td>\n",
       "      <td>2008</td>\n",
       "      <td>12.40</td>\n",
       "    </tr>\n",
       "    <tr>\n",
       "      <th>1</th>\n",
       "      <td>Afghanistan</td>\n",
       "      <td>2012</td>\n",
       "      <td>16.60</td>\n",
       "    </tr>\n",
       "    <tr>\n",
       "      <th>2</th>\n",
       "      <td>Albania</td>\n",
       "      <td>1994</td>\n",
       "      <td>11.00</td>\n",
       "    </tr>\n",
       "    <tr>\n",
       "      <th>3</th>\n",
       "      <td>Albania</td>\n",
       "      <td>1995</td>\n",
       "      <td>10.20</td>\n",
       "    </tr>\n",
       "    <tr>\n",
       "      <th>4</th>\n",
       "      <td>Albania</td>\n",
       "      <td>1996</td>\n",
       "      <td>9.59</td>\n",
       "    </tr>\n",
       "  </tbody>\n",
       "</table>\n",
       "</div>"
      ],
      "text/plain": [
       "       country  year  workers_value\n",
       "0  Afghanistan  2008          12.40\n",
       "1  Afghanistan  2012          16.60\n",
       "2      Albania  1994          11.00\n",
       "3      Albania  1995          10.20\n",
       "4      Albania  1996           9.59"
      ]
     },
     "execution_count": 16,
     "metadata": {},
     "output_type": "execute_result"
    }
   ],
   "source": [
    "workers_NoMissing.head(5)"
   ]
  },
  {
   "cell_type": "code",
   "execution_count": 17,
   "metadata": {},
   "outputs": [],
   "source": [
    "#Merge two data frames:\n",
    "#Inner joins yield a DataFrame that contains only rows where the value being joined (acc to column names) exists in BOTH tables. \n",
    "#Now, data contains no empty rows"
   ]
  },
  {
   "cell_type": "code",
   "execution_count": 18,
   "metadata": {},
   "outputs": [
    {
     "data": {
      "text/html": [
       "<div>\n",
       "<style scoped>\n",
       "    .dataframe tbody tr th:only-of-type {\n",
       "        vertical-align: middle;\n",
       "    }\n",
       "\n",
       "    .dataframe tbody tr th {\n",
       "        vertical-align: top;\n",
       "    }\n",
       "\n",
       "    .dataframe thead th {\n",
       "        text-align: right;\n",
       "    }\n",
       "</style>\n",
       "<table border=\"1\" class=\"dataframe\">\n",
       "  <thead>\n",
       "    <tr style=\"text-align: right;\">\n",
       "      <th></th>\n",
       "      <th>country</th>\n",
       "      <th>year</th>\n",
       "      <th>cancer_value</th>\n",
       "      <th>workers_value</th>\n",
       "    </tr>\n",
       "  </thead>\n",
       "  <tbody>\n",
       "    <tr>\n",
       "      <th>0</th>\n",
       "      <td>Afghanistan</td>\n",
       "      <td>2008</td>\n",
       "      <td>10.10</td>\n",
       "      <td>12.40</td>\n",
       "    </tr>\n",
       "    <tr>\n",
       "      <th>1</th>\n",
       "      <td>Afghanistan</td>\n",
       "      <td>2012</td>\n",
       "      <td>10.50</td>\n",
       "      <td>16.60</td>\n",
       "    </tr>\n",
       "    <tr>\n",
       "      <th>2</th>\n",
       "      <td>Albania</td>\n",
       "      <td>1994</td>\n",
       "      <td>7.72</td>\n",
       "      <td>11.00</td>\n",
       "    </tr>\n",
       "    <tr>\n",
       "      <th>3</th>\n",
       "      <td>Albania</td>\n",
       "      <td>1995</td>\n",
       "      <td>7.48</td>\n",
       "      <td>10.20</td>\n",
       "    </tr>\n",
       "    <tr>\n",
       "      <th>4</th>\n",
       "      <td>Albania</td>\n",
       "      <td>1996</td>\n",
       "      <td>7.28</td>\n",
       "      <td>9.59</td>\n",
       "    </tr>\n",
       "  </tbody>\n",
       "</table>\n",
       "</div>"
      ],
      "text/plain": [
       "       country  year  cancer_value  workers_value\n",
       "0  Afghanistan  2008         10.10          12.40\n",
       "1  Afghanistan  2012         10.50          16.60\n",
       "2      Albania  1994          7.72          11.00\n",
       "3      Albania  1995          7.48          10.20\n",
       "4      Albania  1996          7.28           9.59"
      ]
     },
     "execution_count": 18,
     "metadata": {},
     "output_type": "execute_result"
    }
   ],
   "source": [
    "data = pd.merge(left= cancer_NoMissing, right= workers_NoMissing)\n",
    "data.head(5)"
   ]
  },
  {
   "cell_type": "code",
   "execution_count": 19,
   "metadata": {},
   "outputs": [
    {
     "name": "stdout",
     "output_type": "stream",
     "text": [
      "Data length: 3003\n"
     ]
    }
   ],
   "source": [
    "data.index= range(len(data))\n",
    "\n",
    "print('Data length: '+ str(len(data)))"
   ]
  },
  {
   "cell_type": "code",
   "execution_count": 20,
   "metadata": {},
   "outputs": [
    {
     "data": {
      "text/plain": [
       "RangeIndex(start=0, stop=3003, step=1)"
      ]
     },
     "execution_count": 20,
     "metadata": {},
     "output_type": "execute_result"
    }
   ],
   "source": [
    "data.index\n"
   ]
  },
  {
   "cell_type": "code",
   "execution_count": 21,
   "metadata": {},
   "outputs": [],
   "source": [
    "#Converts to numeric :lets python recognize these columns as numeric so that some numeric operations can be done"
   ]
  },
  {
   "cell_type": "code",
   "execution_count": 22,
   "metadata": {},
   "outputs": [
    {
     "name": "stdout",
     "output_type": "stream",
     "text": [
      "       country  year  cancer_value  workers_value\n",
      "0  Afghanistan  2008         10.10           12.4\n",
      "1  Afghanistan  2012         10.50           16.6\n",
      "2      Albania  1994          7.72           11.0\n",
      "0    10.10\n",
      "1    10.50\n",
      "2     7.72\n",
      "3     7.48\n",
      "4     7.28\n",
      "Name: cancer_value, dtype: float64\n"
     ]
    },
    {
     "data": {
      "text/html": [
       "<div>\n",
       "<style scoped>\n",
       "    .dataframe tbody tr th:only-of-type {\n",
       "        vertical-align: middle;\n",
       "    }\n",
       "\n",
       "    .dataframe tbody tr th {\n",
       "        vertical-align: top;\n",
       "    }\n",
       "\n",
       "    .dataframe thead th {\n",
       "        text-align: right;\n",
       "    }\n",
       "</style>\n",
       "<table border=\"1\" class=\"dataframe\">\n",
       "  <thead>\n",
       "    <tr style=\"text-align: right;\">\n",
       "      <th></th>\n",
       "      <th>country</th>\n",
       "      <th>year</th>\n",
       "      <th>cancer_value</th>\n",
       "      <th>workers_value</th>\n",
       "    </tr>\n",
       "  </thead>\n",
       "  <tbody>\n",
       "    <tr>\n",
       "      <th>0</th>\n",
       "      <td>Afghanistan</td>\n",
       "      <td>2008</td>\n",
       "      <td>10.10</td>\n",
       "      <td>12.40</td>\n",
       "    </tr>\n",
       "    <tr>\n",
       "      <th>1</th>\n",
       "      <td>Afghanistan</td>\n",
       "      <td>2012</td>\n",
       "      <td>10.50</td>\n",
       "      <td>16.60</td>\n",
       "    </tr>\n",
       "    <tr>\n",
       "      <th>2</th>\n",
       "      <td>Albania</td>\n",
       "      <td>1994</td>\n",
       "      <td>7.72</td>\n",
       "      <td>11.00</td>\n",
       "    </tr>\n",
       "    <tr>\n",
       "      <th>3</th>\n",
       "      <td>Albania</td>\n",
       "      <td>1995</td>\n",
       "      <td>7.48</td>\n",
       "      <td>10.20</td>\n",
       "    </tr>\n",
       "    <tr>\n",
       "      <th>4</th>\n",
       "      <td>Albania</td>\n",
       "      <td>1996</td>\n",
       "      <td>7.28</td>\n",
       "      <td>9.59</td>\n",
       "    </tr>\n",
       "    <tr>\n",
       "      <th>5</th>\n",
       "      <td>Albania</td>\n",
       "      <td>1997</td>\n",
       "      <td>7.11</td>\n",
       "      <td>9.30</td>\n",
       "    </tr>\n",
       "    <tr>\n",
       "      <th>6</th>\n",
       "      <td>Albania</td>\n",
       "      <td>1998</td>\n",
       "      <td>7.09</td>\n",
       "      <td>8.76</td>\n",
       "    </tr>\n",
       "    <tr>\n",
       "      <th>7</th>\n",
       "      <td>Albania</td>\n",
       "      <td>1999</td>\n",
       "      <td>7.20</td>\n",
       "      <td>8.73</td>\n",
       "    </tr>\n",
       "    <tr>\n",
       "      <th>8</th>\n",
       "      <td>Albania</td>\n",
       "      <td>2000</td>\n",
       "      <td>7.39</td>\n",
       "      <td>6.65</td>\n",
       "    </tr>\n",
       "    <tr>\n",
       "      <th>9</th>\n",
       "      <td>Albania</td>\n",
       "      <td>2001</td>\n",
       "      <td>7.71</td>\n",
       "      <td>6.49</td>\n",
       "    </tr>\n",
       "  </tbody>\n",
       "</table>\n",
       "</div>"
      ],
      "text/plain": [
       "       country  year  cancer_value  workers_value\n",
       "0  Afghanistan  2008         10.10          12.40\n",
       "1  Afghanistan  2012         10.50          16.60\n",
       "2      Albania  1994          7.72          11.00\n",
       "3      Albania  1995          7.48          10.20\n",
       "4      Albania  1996          7.28           9.59\n",
       "5      Albania  1997          7.11           9.30\n",
       "6      Albania  1998          7.09           8.76\n",
       "7      Albania  1999          7.20           8.73\n",
       "8      Albania  2000          7.39           6.65\n",
       "9      Albania  2001          7.71           6.49"
      ]
     },
     "execution_count": 22,
     "metadata": {},
     "output_type": "execute_result"
    }
   ],
   "source": [
    "data['year']= pd.to_numeric(data['year'])\n",
    "data['cancer_value']= pd.to_numeric(data['cancer_value'])\n",
    "data['workers_value']= pd.to_numeric(data['workers_value'])\n",
    "print(data.head(3)) \n",
    "print(data[\"cancer_value\"][:5])\n",
    "data.head(10)"
   ]
  },
  {
   "cell_type": "code",
   "execution_count": 23,
   "metadata": {},
   "outputs": [
    {
     "name": "stdout",
     "output_type": "stream",
     "text": [
      "Finland           47\n",
      "Australia         47\n",
      "France            47\n",
      "Netherlands       47\n",
      "United Kingdom    47\n",
      "Name: country, dtype: int64\n",
      "\n",
      "Finland           0.015651\n",
      "Australia         0.015651\n",
      "France            0.015651\n",
      "Netherlands       0.015651\n",
      "United Kingdom    0.015651\n",
      "Name: country, dtype: float64\n",
      "\n",
      "Number of Different Countries: 170\n",
      "Number of observations for the Country column:3003\n"
     ]
    }
   ],
   "source": [
    "countCountry= data['country'].value_counts(sort= True, ascending=False, dropna=False) # sort= True\n",
    "print(countCountry.head(5))\n",
    "print()\n",
    "perCountry= data['country'].value_counts(sort= True, ascending=False, dropna=False, normalize=True)\n",
    "print(perCountry.head(5))\n",
    "print()\n",
    "print ('Number of Different Countries: '+ str(len(countCountry)))\n",
    "print ('Number of observations for the Country column:'+ str(len(data['country'])))\n"
   ]
  },
  {
   "cell_type": "code",
   "execution_count": 24,
   "metadata": {},
   "outputs": [
    {
     "name": "stdout",
     "output_type": "stream",
     "text": [
      "Year ranges from 1970 and to 2016\n",
      "1970    11\n",
      "1972    13\n",
      "1974    14\n",
      "1976    14\n",
      "1978    16\n",
      "Name: year, dtype: int64\n",
      "1970    0.003663\n",
      "1972    0.004329\n",
      "1974    0.004662\n",
      "1976    0.004662\n",
      "1978    0.005328\n",
      "Name: year, dtype: float64\n",
      "Number of Different Years: 47\n"
     ]
    }
   ],
   "source": [
    "print ('Year ranges from '+ str(data['year'].min())+' and to '+ str(data['year'].max()) )\n",
    "countYear= data['year'].value_counts(sort= False, dropna=False)\n",
    "print(countYear.head(5))\n",
    "perYear= data['year'].value_counts(sort= False, dropna=False, normalize=True)\n",
    "print(perYear.head(5))\n",
    "print ('Number of Different Years: '+ str(len(countYear)))"
   ]
  },
  {
   "cell_type": "code",
   "execution_count": 25,
   "metadata": {},
   "outputs": [
    {
     "name": "stdout",
     "output_type": "stream",
     "text": [
      "10.5    10\n",
      "8.0      3\n",
      "24.0     9\n",
      "25.0    10\n",
      "26.0    13\n",
      "Name: cancer_value, dtype: int64\n",
      "10.5    0.003330\n",
      "8.0     0.000999\n",
      "24.0    0.002997\n",
      "25.0    0.003330\n",
      "26.0    0.004329\n",
      "Name: cancer_value, dtype: float64\n",
      "Number of Different Cancer values: 734\n"
     ]
    }
   ],
   "source": [
    "countCancer= data['cancer_value'].value_counts(sort= False, dropna=False) \n",
    "# dropna=False  required, otherwise python does not show mising values\n",
    "\n",
    "print(countCancer.head(5))\n",
    "perCancer= data['cancer_value'].value_counts(sort= False, dropna=False, normalize=True)\n",
    "print(perCancer.head(5))\n",
    "print ('Number of Different Cancer values: '+ str(len(countCancer)))"
   ]
  },
  {
   "cell_type": "code",
   "execution_count": 26,
   "metadata": {},
   "outputs": [
    {
     "name": "stdout",
     "output_type": "stream",
     "text": [
      "11.0     3\n",
      "13.5     4\n",
      "24.0     8\n",
      "26.0    15\n",
      "27.0    10\n",
      "Name: workers_value, dtype: int64\n",
      "11.0    0.000999\n",
      "13.5    0.001332\n",
      "24.0    0.002664\n",
      "26.0    0.004995\n",
      "27.0    0.003330\n",
      "Name: workers_value, dtype: float64\n",
      "Number of Different workers values: 454\n"
     ]
    }
   ],
   "source": [
    "countWorkers= data['workers_value'].value_counts(sort= False, dropna=False)\n",
    "print(countWorkers.head(5))\n",
    "perWorkers= data['workers_value'].value_counts(sort= False, dropna=False, normalize=True)\n",
    "print(perWorkers.head(5))\n",
    "print ('Number of Different workers values: '+ str(len(countWorkers)))"
   ]
  },
  {
   "cell_type": "code",
   "execution_count": 27,
   "metadata": {},
   "outputs": [
    {
     "name": "stdout",
     "output_type": "stream",
     "text": [
      "Lenghth of the new dataframe: 3003\n"
     ]
    }
   ],
   "source": [
    "data= data.dropna(subset =['cancer_value','workers_value'], how='any')\n",
    "\n",
    "data= data.reset_index(drop=True) # not to save old index as a column\n",
    "print('Lenghth of the new dataframe: '+str(len(data)))"
   ]
  },
  {
   "cell_type": "code",
   "execution_count": 28,
   "metadata": {},
   "outputs": [],
   "source": [
    "# PART I: Desribe Data"
   ]
  },
  {
   "cell_type": "code",
   "execution_count": 29,
   "metadata": {},
   "outputs": [],
   "source": [
    "# Now, Create cancer_value groups, describe and visualize data:"
   ]
  },
  {
   "cell_type": "code",
   "execution_count": 30,
   "metadata": {},
   "outputs": [
    {
     "name": "stdout",
     "output_type": "stream",
     "text": [
      "Cancer ranges from 2.22 and to 49.0\n"
     ]
    },
    {
     "data": {
      "text/plain": [
       "count    3003.000000\n",
       "mean       18.414772\n",
       "std         9.361073\n",
       "min         2.220000\n",
       "25%        10.300000\n",
       "50%        17.100000\n",
       "75%        25.500000\n",
       "max        49.000000\n",
       "Name: cancer_value, dtype: float64"
      ]
     },
     "execution_count": 30,
     "metadata": {},
     "output_type": "execute_result"
    }
   ],
   "source": [
    "print ('Cancer ranges from '+ str(data['cancer_value'].min())+' and to '+ str(data['cancer_value'].max()) )\n",
    "data['cancer_value'].describe()"
   ]
  },
  {
   "cell_type": "code",
   "execution_count": 31,
   "metadata": {},
   "outputs": [
    {
     "name": "stdout",
     "output_type": "stream",
     "text": [
      "3003\n",
      "3003\n"
     ]
    }
   ],
   "source": [
    "# Cancer column keeps continuous quantitative variables.\n",
    "# In order to create Cancer groups, we need to generate partitions. \n",
    "# Below, we call the \"cut \" method. Note that the first cut is (2, 50)\n",
    "data['CancerGroup']= pd.cut(data.cancer_value, [2.20,5.0,10.0,20.0,30.0,40.0,50.0]) \n",
    "# no need to sort the data frame.\n",
    "\n",
    "print(len(data))\n",
    "print(len(data['CancerGroup']))\n"
   ]
  },
  {
   "cell_type": "code",
   "execution_count": 32,
   "metadata": {},
   "outputs": [
    {
     "data": {
      "text/plain": [
       "count             3003\n",
       "unique               6\n",
       "top       (10.0, 20.0]\n",
       "freq               999\n",
       "Name: CancerGroup, dtype: object"
      ]
     },
     "execution_count": 32,
     "metadata": {},
     "output_type": "execute_result"
    }
   ],
   "source": [
    "data['CancerGroup']= data['CancerGroup'].astype('category')\n",
    "data['CancerGroup'].describe()\n"
   ]
  },
  {
   "cell_type": "code",
   "execution_count": 33,
   "metadata": {},
   "outputs": [
    {
     "name": "stdout",
     "output_type": "stream",
     "text": [
      "(2.2, 5.0]      0.015651\n",
      "(5.0, 10.0]     0.222444\n",
      "(10.0, 20.0]    0.332667\n",
      "(20.0, 30.0]    0.329004\n",
      "(30.0, 40.0]    0.076257\n",
      "(40.0, 50.0]    0.023976\n",
      "Name: CancerGroup, dtype: float64\n"
     ]
    }
   ],
   "source": [
    "CancerGroupP= data['CancerGroup'].value_counts(sort= False, normalize= True) \n",
    "# value_counts() should make more sense now\n",
    "print(CancerGroupP)"
   ]
  },
  {
   "cell_type": "code",
   "execution_count": 34,
   "metadata": {},
   "outputs": [
    {
     "data": {
      "image/png": "[encoded data removed]",
      "text/plain": [
       "<Figure size 432x288 with 1 Axes>"
      ]
     },
     "metadata": {
      "needs_background": "light"
     },
     "output_type": "display_data"
    }
   ],
   "source": [
    "seaborn.countplot(x= 'CancerGroup', data= data)\n",
    "plt.xlabel('Cancer categories')\n",
    "plt.title('Counts of rows for each Cancer')\n",
    "plt.show()"
   ]
  },
  {
   "cell_type": "code",
   "execution_count": 35,
   "metadata": {},
   "outputs": [
    {
     "data": {
      "text/plain": [
       "Text(0.5, 1.0, 'Counts of rows for each Cancer')"
      ]
     },
     "execution_count": 35,
     "metadata": {},
     "output_type": "execute_result"
    },
    {
     "data": {
      "image/png": "[encoded data removed]",
      "text/plain": [
       "<Figure size 432x288 with 1 Axes>"
      ]
     },
     "metadata": {
      "needs_background": "light"
     },
     "output_type": "display_data"
    }
   ],
   "source": [
    "seaborn.distplot(data['cancer_value'].dropna(), kde= False)\n",
    "plt.xlabel('Cancer quantitative values')\n",
    "plt.title('Counts of rows for each Cancer')"
   ]
  },
  {
   "cell_type": "code",
   "execution_count": 36,
   "metadata": {},
   "outputs": [
    {
     "name": "stdout",
     "output_type": "stream",
     "text": [
      "Workers ranges from 2.05 and to 59.6\n"
     ]
    },
    {
     "data": {
      "text/plain": [
       "count    3003.000000\n",
       "mean       24.746104\n",
       "std         8.020081\n",
       "min         2.050000\n",
       "25%        19.500000\n",
       "50%        24.100000\n",
       "75%        30.200000\n",
       "max        59.600000\n",
       "Name: workers_value, dtype: float64"
      ]
     },
     "execution_count": 36,
     "metadata": {},
     "output_type": "execute_result"
    }
   ],
   "source": [
    "print ('Workers ranges from '+ str(data['workers_value'].min())+' and to '+ \n",
    "       str(data['workers_value'].max()) )\n",
    "data['workers_value'].describe()"
   ]
  },
  {
   "cell_type": "code",
   "execution_count": 37,
   "metadata": {},
   "outputs": [],
   "source": [
    "data['WorkersGroup']= pd.cut(data[\"workers_value\"], [0,15,25,35,45,59]) "
   ]
  },
  {
   "cell_type": "code",
   "execution_count": 38,
   "metadata": {},
   "outputs": [
    {
     "data": {
      "text/plain": [
       "count         3002\n",
       "unique           5\n",
       "top       (15, 25]\n",
       "freq          1313\n",
       "Name: WorkersGroup, dtype: object"
      ]
     },
     "execution_count": 38,
     "metadata": {},
     "output_type": "execute_result"
    }
   ],
   "source": [
    "data['WorkersGroup']= data['WorkersGroup'].astype('category')\n",
    "data['WorkersGroup'].describe()"
   ]
  },
  {
   "cell_type": "code",
   "execution_count": 39,
   "metadata": {},
   "outputs": [
    {
     "name": "stdout",
     "output_type": "stream",
     "text": [
      "(0, 15]     0.100600\n",
      "(15, 25]    0.437375\n",
      "(25, 35]    0.356429\n",
      "(35, 45]    0.100266\n",
      "(45, 59]    0.005330\n",
      "Name: WorkersGroup, dtype: float64\n"
     ]
    }
   ],
   "source": [
    "WG= data['WorkersGroup'].value_counts(sort= False, normalize= True)\n",
    "print(WG)"
   ]
  },
  {
   "cell_type": "code",
   "execution_count": 40,
   "metadata": {},
   "outputs": [
    {
     "data": {
      "image/png": "[encoded data removed]",
      "text/plain": [
       "<Figure size 432x288 with 1 Axes>"
      ]
     },
     "metadata": {
      "needs_background": "light"
     },
     "output_type": "display_data"
    }
   ],
   "source": [
    "seaborn.countplot(x= 'WorkersGroup', data= data)\n",
    "plt.xlabel('Workers group')\n",
    "plt.title('Counts of rows for each Workers')\n",
    "plt.show()"
   ]
  },
  {
   "cell_type": "code",
   "execution_count": 41,
   "metadata": {},
   "outputs": [
    {
     "data": {
      "text/plain": [
       "<matplotlib.axes._subplots.AxesSubplot at 0x2c951b1f5f8>"
      ]
     },
     "execution_count": 41,
     "metadata": {},
     "output_type": "execute_result"
    },
    {
     "data": {
      "image/png": "[encoded data removed]",
      "text/plain": [
       "<Figure size 432x288 with 1 Axes>"
      ]
     },
     "metadata": {
      "needs_background": "light"
     },
     "output_type": "display_data"
    }
   ],
   "source": [
    "seaborn.regplot(x= \"cancer_value\", y= \"workers_value\", fit_reg= False, data= data)"
   ]
  },
  {
   "cell_type": "code",
   "execution_count": 42,
   "metadata": {},
   "outputs": [],
   "source": [
    "data2 = data[data['year']>=2000]\n"
   ]
  },
  {
   "cell_type": "code",
   "execution_count": 43,
   "metadata": {},
   "outputs": [
    {
     "data": {
      "text/plain": [
       "<matplotlib.axes._subplots.AxesSubplot at 0x2c951b68278>"
      ]
     },
     "execution_count": 43,
     "metadata": {},
     "output_type": "execute_result"
    },
    {
     "data": {
      "image/png": "[encoded data removed]",
      "text/plain": [
       "<Figure size 432x288 with 1 Axes>"
      ]
     },
     "metadata": {
      "needs_background": "light"
     },
     "output_type": "display_data"
    }
   ],
   "source": [
    "seaborn.regplot(x= \"cancer_value\", y= \"workers_value\", fit_reg= False, data= data2)"
   ]
  },
  {
   "cell_type": "code",
   "execution_count": 44,
   "metadata": {},
   "outputs": [
    {
     "name": "stdout",
     "output_type": "stream",
     "text": [
      "(0, 15]     197\n",
      "(15, 25]    949\n",
      "(25, 35]    478\n",
      "(35, 45]     59\n",
      "(45, 59]      8\n",
      "Name: WorkersGroup, dtype: int64\n"
     ]
    }
   ],
   "source": [
    "WG= data2['WorkersGroup'].value_counts(sort= False)\n",
    "print(WG)"
   ]
  },
  {
   "cell_type": "code",
   "execution_count": 45,
   "metadata": {},
   "outputs": [],
   "source": [
    "def WORKER (row):\n",
    "    if row['workers_value'] < 15 :\n",
    "        return 0\n",
    "    else:\n",
    "        return 1"
   ]
  },
  {
   "cell_type": "code",
   "execution_count": 46,
   "metadata": {},
   "outputs": [
    {
     "data": {
      "text/plain": [
       "1    1499\n",
       "0     193\n",
       "Name: Worker, dtype: int64"
      ]
     },
     "execution_count": 46,
     "metadata": {},
     "output_type": "execute_result"
    }
   ],
   "source": [
    "data2['Worker']= data2.apply(lambda row : WORKER(row), axis= 1)\n",
    "# axis=1, tells python to apply this function to each row \n",
    "# Arbitrary functions can be applied along the axes of a DataFrame using the apply() method\n",
    "data2['Worker'].value_counts()"
   ]
  },
  {
   "cell_type": "code",
   "execution_count": 47,
   "metadata": {},
   "outputs": [
    {
     "data": {
      "image/png": "[encoded data removed]",
      "text/plain": [
       "<Figure size 360x360 with 1 Axes>"
      ]
     },
     "metadata": {
      "needs_background": "light"
     },
     "output_type": "display_data"
    }
   ],
   "source": [
    "seaborn.factorplot(x= 'CancerGroup', y= 'Worker', data= data2, kind= \"bar\", ci=None)\n",
    "plt.xlabel('Cancer group')\n",
    "plt.ylabel('proportion Workers')\n",
    "plt.show()"
   ]
  },
  {
   "cell_type": "code",
   "execution_count": 48,
   "metadata": {},
   "outputs": [],
   "source": [
    "def WorkerRangeGroup (row):\n",
    "   if row['cancer_value'] > 2.20 and row['cancer_value']<= 5.0 :\n",
    "      return 1\n",
    "   if row['cancer_value'] > 5.0 and row['cancer_value']<= 10.0 :\n",
    "      return 2\n",
    "   if row['cancer_value'] > 10.0 and row['cancer_value']<= 20.0 :\n",
    "      return 3\n",
    "   if row['cancer_value'] > 20.0 and row['cancer_value']<= 30.0 :\n",
    "      return 4\n",
    "   if row['cancer_value'] > 30.0 and row['cancer_value']<=40.0:\n",
    "      return 5\n",
    "   if row['cancer_value'] > 40.0 and row['cancer_value']<=50.0  :\n",
    "      return 6\n",
    "   "
   ]
  },
  {
   "cell_type": "code",
   "execution_count": 49,
   "metadata": {},
   "outputs": [],
   "source": [
    "data2['CancerCat'] = data2.apply (lambda row: WorkerRangeGroup (row),axis=1)"
   ]
  },
  {
   "cell_type": "code",
   "execution_count": 50,
   "metadata": {},
   "outputs": [
    {
     "data": {
      "image/png": "[encoded data removed]",
      "text/plain": [
       "<Figure size 360x360 with 1 Axes>"
      ]
     },
     "metadata": {
      "needs_background": "light"
     },
     "output_type": "display_data"
    }
   ],
   "source": [
    "seaborn.factorplot(x= 'CancerCat', y= 'Worker', data= data2, kind= \"bar\", ci=None)\n",
    "plt.xlabel('Cancer value ')\n",
    "plt.ylabel('Proportion workers')\n",
    "plt.show()"
   ]
  },
  {
   "cell_type": "code",
   "execution_count": 51,
   "metadata": {},
   "outputs": [],
   "source": [
    "#chi square testi"
   ]
  },
  {
   "cell_type": "code",
   "execution_count": 52,
   "metadata": {},
   "outputs": [],
   "source": [
    "import statsmodels.formula.api as smf\n",
    "import statsmodels.stats.multicomp as multi "
   ]
  },
  {
   "cell_type": "code",
   "execution_count": 53,
   "metadata": {},
   "outputs": [
    {
     "name": "stdout",
     "output_type": "stream",
     "text": [
      "    CancerCat  workers_value\n",
      "0           3          12.40\n",
      "1           3          16.60\n",
      "8           2           6.65\n",
      "9           2           6.49\n",
      "10          2          13.70\n",
      "11          2          13.40\n",
      "12          2          13.60\n",
      "13          2          13.50\n",
      "14          2          13.50\n",
      "15          2          22.60\n"
     ]
    }
   ],
   "source": [
    "data3= data2[['CancerCat', 'workers_value']]\n",
    "print(data3.head(10))"
   ]
  },
  {
   "cell_type": "code",
   "execution_count": 54,
   "metadata": {},
   "outputs": [
    {
     "name": "stdout",
     "output_type": "stream",
     "text": [
      "    Worker  CancerCat\n",
      "0        0          3\n",
      "1        1          3\n",
      "8        0          2\n",
      "9        0          2\n",
      "10       0          2\n",
      "11       0          2\n",
      "12       0          2\n",
      "13       0          2\n",
      "14       0          2\n",
      "15       1          2\n"
     ]
    }
   ],
   "source": [
    "data4= data2[['Worker', 'CancerCat']]\n",
    "print(data4.head(10))"
   ]
  },
  {
   "cell_type": "code",
   "execution_count": 55,
   "metadata": {},
   "outputs": [
    {
     "name": "stdout",
     "output_type": "stream",
     "text": [
      "CancerCat  1    2    3    4    5   6\n",
      "Worker                              \n",
      "0          2   94   81   16    0   0\n",
      "1          1  309  498  534  108  49\n"
     ]
    }
   ],
   "source": [
    "# contingency table of observed counts\n",
    "ct1=pd.crosstab(data4['Worker'], data4['CancerCat'])\n",
    "print (ct1) # ct1 is a two-dimentional array"
   ]
  },
  {
   "cell_type": "code",
   "execution_count": 56,
   "metadata": {},
   "outputs": [
    {
     "name": "stdout",
     "output_type": "stream",
     "text": [
      "CancerCat         1         2         3         4    5    6\n",
      "Worker                                                     \n",
      "0          0.666667  0.233251  0.139896  0.029091  0.0  0.0\n",
      "1          0.333333  0.766749  0.860104  0.970909  1.0  1.0\n"
     ]
    }
   ],
   "source": [
    "# column percentages\n",
    "colsum=ct1.sum(axis=0) # axis=0 to sum all columns\n",
    "colpct=ct1/colsum\n",
    "print(colpct)"
   ]
  },
  {
   "cell_type": "code",
   "execution_count": 57,
   "metadata": {},
   "outputs": [],
   "source": [
    "import scipy.stats"
   ]
  },
  {
   "cell_type": "code",
   "execution_count": 58,
   "metadata": {},
   "outputs": [
    {
     "name": "stdout",
     "output_type": "stream",
     "text": [
      "chi-square value, p value, expected counts\n",
      "(129.05016517958376, 3.785520430466749e-26, 5, array([[3.42198582e-01, 4.59686761e+01, 6.60443262e+01, 6.27364066e+01,\n",
      "        1.23191489e+01, 5.58924350e+00],\n",
      "       [2.65780142e+00, 3.57031324e+02, 5.12955674e+02, 4.87263593e+02,\n",
      "        9.56808511e+01, 4.34107565e+01]]))\n"
     ]
    }
   ],
   "source": [
    "# chi-square\n",
    "print ('chi-square value, p value, expected counts')\n",
    "cs1= scipy.stats.chi2_contingency(ct1)\n",
    "print (cs1)"
   ]
  },
  {
   "cell_type": "code",
   "execution_count": 59,
   "metadata": {},
   "outputs": [
    {
     "data": {
      "image/png": "[encoded data removed]",
      "text/plain": [
       "<Figure size 360x360 with 1 Axes>"
      ]
     },
     "metadata": {
      "needs_background": "light"
     },
     "output_type": "display_data"
    }
   ],
   "source": [
    "seaborn.factorplot(x= 'CancerCat', y= 'Worker', data= data4, kind= \"bar\", ci=None)\n",
    "plt.xlabel('Cancer: 1 the most poor to 6 the richest')\n",
    "plt.ylabel('Proportion worker')\n",
    "plt.show()"
   ]
  },
  {
   "cell_type": "code",
   "execution_count": 60,
   "metadata": {},
   "outputs": [
    {
     "name": "stdout",
     "output_type": "stream",
     "text": [
      "Cancer_1v2  1.0  2.0\n",
      "Worker              \n",
      "0             2   94\n",
      "1             1  309\n",
      "Cancer_1v2       1.0       2.0\n",
      "Worker                        \n",
      "0           0.666667  0.233251\n",
      "1           0.333333  0.766749\n",
      "chi-square value, p value, expected counts\n",
      "(1.1627246257904427, 0.2809011929281648, 1, array([[  0.70935961,  95.29064039],\n",
      "       [  2.29064039, 307.70935961]]))\n"
     ]
    }
   ],
   "source": [
    "# We need to run chi-square tests for each of the comparisons\n",
    "recode_1v2 = {1: 1, 2: 2} # this is required because we are going to use only these two columns\n",
    "data4['Cancer_1v2']= data4['CancerCat'].map(recode_1v2)\n",
    "\n",
    "# contingency table of observed counts\n",
    "table_1v2=pd.crosstab(data4['Worker'], data4['Cancer_1v2'])\n",
    "print (table_1v2)\n",
    "\n",
    "# column percentages\n",
    "colsum=table_1v2.sum(axis=0)\n",
    "colpct=table_1v2/colsum\n",
    "print(colpct)\n",
    "\n",
    "print ('chi-square value, p value, expected counts')\n",
    "cs_1v2= scipy.stats.chi2_contingency(table_1v2)\n",
    "print (cs_1v2)"
   ]
  },
  {
   "cell_type": "code",
   "execution_count": 61,
   "metadata": {},
   "outputs": [
    {
     "name": "stdout",
     "output_type": "stream",
     "text": [
      "Cancer_1v3  1.0  3.0\n",
      "Worker              \n",
      "0             2   81\n",
      "1             1  498\n",
      "Cancer_1v3       1.0       3.0\n",
      "Worker                        \n",
      "0           0.666667  0.139896\n",
      "1           0.333333  0.860104\n",
      "chi-square value, p value, expected counts\n",
      "(3.150022874890176, 0.07592589860250833, 1, array([[4.27835052e-01, 8.25721649e+01],\n",
      "       [2.57216495e+00, 4.96427835e+02]]))\n"
     ]
    }
   ],
   "source": [
    "recode_1v3 = {1: 1, 3: 3}\n",
    "data4['Cancer_1v3']= data4['CancerCat'].map(recode_1v3)\n",
    "\n",
    "# contingency table of observed counts\n",
    "table_1v3=pd.crosstab(data4['Worker'], data4['Cancer_1v3'])\n",
    "print (table_1v3)\n",
    "\n",
    "# column percentages\n",
    "colsum=table_1v3.sum(axis=0)\n",
    "colpct=table_1v3/colsum\n",
    "print(colpct)\n",
    "\n",
    "print ('chi-square value, p value, expected counts')\n",
    "cs_1v3= scipy.stats.chi2_contingency(table_1v3)\n",
    "print (cs_1v3)"
   ]
  },
  {
   "cell_type": "code",
   "execution_count": 62,
   "metadata": {},
   "outputs": [
    {
     "name": "stdout",
     "output_type": "stream",
     "text": [
      "Cancer_1v4  1.0  4.0\n",
      "Worker              \n",
      "0             2   16\n",
      "1             1  534\n",
      "Cancer_1v4       1.0       4.0\n",
      "Worker                        \n",
      "0           0.666667  0.029091\n",
      "1           0.333333  0.970909\n",
      "chi-square value, p value, expected counts\n",
      "(20.930447040498443, 4.762642283749946e-06, 1, array([[9.76491863e-02, 1.79023508e+01],\n",
      "       [2.90235081e+00, 5.32097649e+02]]))\n"
     ]
    }
   ],
   "source": [
    "recode_1v4 = {1: 1, 4: 4}\n",
    "data4['Cancer_1v4']= data4['CancerCat'].map(recode_1v4)\n",
    "\n",
    "# contingency table of observed counts\n",
    "table_1v4=pd.crosstab(data4['Worker'], data4['Cancer_1v4'])\n",
    "print (table_1v4)\n",
    "\n",
    "# column percentages\n",
    "colsum=table_1v4.sum(axis=0)\n",
    "colpct=table_1v4/colsum\n",
    "print(colpct)\n",
    "\n",
    "print ('chi-square value, p value, expected counts')\n",
    "cs_1v4= scipy.stats.chi2_contingency(table_1v4)\n",
    "print (cs_1v4)"
   ]
  },
  {
   "cell_type": "code",
   "execution_count": 63,
   "metadata": {},
   "outputs": [
    {
     "name": "stdout",
     "output_type": "stream",
     "text": [
      "Cancer_1v5  1.0  5.0\n",
      "Worker              \n",
      "0             2    0\n",
      "1             1  108\n",
      "Cancer_1v5       1.0  5.0\n",
      "Worker                   \n",
      "0           0.666667  0.0\n",
      "1           0.333333  1.0\n",
      "chi-square value, p value, expected counts\n",
      "(40.48289373088684, 1.9834498104365506e-10, 1, array([[5.40540541e-02, 1.94594595e+00],\n",
      "       [2.94594595e+00, 1.06054054e+02]]))\n"
     ]
    }
   ],
   "source": [
    "recode_1v5 = {1: 1, 5: 5}\n",
    "data4['Cancer_1v5']= data4['CancerCat'].map(recode_1v5)\n",
    "\n",
    "# contingency table of observed counts\n",
    "table_1v5=pd.crosstab(data4['Worker'], data4['Cancer_1v5'])\n",
    "print (table_1v5)\n",
    "\n",
    "# column percentages\n",
    "colsum=table_1v5.sum(axis=0)\n",
    "colpct=table_1v5/colsum\n",
    "print(colpct)\n",
    "\n",
    "print ('chi-square value, p value, expected counts')\n",
    "cs_1v5= scipy.stats.chi2_contingency(table_1v5)\n",
    "print (cs_1v5)"
   ]
  },
  {
   "cell_type": "code",
   "execution_count": 64,
   "metadata": {},
   "outputs": [
    {
     "name": "stdout",
     "output_type": "stream",
     "text": [
      "Cancer_1v6  1.0  6.0\n",
      "Worker              \n",
      "0             2    0\n",
      "1             1   49\n",
      "Cancer_1v6       1.0  6.0\n",
      "Worker                   \n",
      "0           0.666667  0.0\n",
      "1           0.333333  1.0\n",
      "chi-square value, p value, expected counts\n",
      "(18.33795918367347, 1.8498438592378434e-05, 1, array([[ 0.11538462,  1.88461538],\n",
      "       [ 2.88461538, 47.11538462]]))\n"
     ]
    }
   ],
   "source": [
    "recode_1v6 = {1: 1, 6: 6}\n",
    "data4['Cancer_1v6']= data4['CancerCat'].map(recode_1v6)\n",
    "\n",
    "# contingency table of observed counts\n",
    "table_1v6=pd.crosstab(data4['Worker'], data4['Cancer_1v6'])\n",
    "print (table_1v6)\n",
    "\n",
    "# column percentages\n",
    "colsum=table_1v6.sum(axis=0)\n",
    "colpct=table_1v6/colsum\n",
    "print(colpct)\n",
    "\n",
    "print ('chi-square value, p value, expected counts')\n",
    "cs_1v6= scipy.stats.chi2_contingency(table_1v6)\n",
    "print (cs_1v6)"
   ]
  },
  {
   "cell_type": "code",
   "execution_count": 65,
   "metadata": {},
   "outputs": [
    {
     "name": "stdout",
     "output_type": "stream",
     "text": [
      "Cancer_2v3  2.0  3.0\n",
      "Worker              \n",
      "0            94   81\n",
      "1           309  498\n",
      "Cancer_2v3       2.0       3.0\n",
      "Worker                        \n",
      "0           0.233251  0.139896\n",
      "1           0.766749  0.860104\n",
      "chi-square value, p value, expected counts\n",
      "(13.509809013918447, 0.00023731969166282884, 1, array([[ 71.81771894, 103.18228106],\n",
      "       [331.18228106, 475.81771894]]))\n"
     ]
    }
   ],
   "source": [
    "recode_2v3 = {2: 2, 3: 3}\n",
    "data4['Cancer_2v3']= data4['CancerCat'].map(recode_2v3)\n",
    "\n",
    "# contingency table of observed counts\n",
    "table_2v3=pd.crosstab(data4['Worker'], data4['Cancer_2v3'])\n",
    "print (table_2v3)\n",
    "\n",
    "# column percentages\n",
    "colsum=table_2v3.sum(axis=0)\n",
    "colpct=table_2v3/colsum\n",
    "print(colpct)\n",
    "\n",
    "print ('chi-square value, p value, expected counts')\n",
    "cs_2v3= scipy.stats.chi2_contingency(table_2v3)\n",
    "print (cs_2v3)"
   ]
  },
  {
   "cell_type": "code",
   "execution_count": 66,
   "metadata": {},
   "outputs": [
    {
     "name": "stdout",
     "output_type": "stream",
     "text": [
      "Cancer_2v4  2.0  4.0\n",
      "Worker              \n",
      "0            94   16\n",
      "1           309  534\n",
      "Cancer_2v4       2.0       4.0\n",
      "Worker                        \n",
      "0           0.233251  0.029091\n",
      "1           0.766749  0.970909\n",
      "chi-square value, p value, expected counts\n",
      "(92.95779075822199, 5.342159734542642e-22, 1, array([[ 46.51626443,  63.48373557],\n",
      "       [356.48373557, 486.51626443]]))\n"
     ]
    }
   ],
   "source": [
    "recode_2v4 = {2: 2, 4: 4}\n",
    "data4['Cancer_2v4']= data4['CancerCat'].map(recode_2v4)\n",
    "\n",
    "# contingency table of observed counts\n",
    "table_2v4=pd.crosstab(data4['Worker'], data4['Cancer_2v4'])\n",
    "print (table_2v4)\n",
    "\n",
    "# column percentages\n",
    "colsum=table_2v4.sum(axis=0)\n",
    "colpct=table_2v4/colsum\n",
    "print(colpct)\n",
    "\n",
    "print ('chi-square value, p value, expected counts')\n",
    "cs_2v4= scipy.stats.chi2_contingency(table_2v4)\n",
    "print (cs_2v4)"
   ]
  },
  {
   "cell_type": "code",
   "execution_count": 67,
   "metadata": {},
   "outputs": [
    {
     "name": "stdout",
     "output_type": "stream",
     "text": [
      "Cancer_2v5  2.0  5.0\n",
      "Worker              \n",
      "0            94    0\n",
      "1           309  108\n",
      "Cancer_2v5       2.0  5.0\n",
      "Worker                   \n",
      "0           0.233251  0.0\n",
      "1           0.766749  1.0\n",
      "chi-square value, p value, expected counts\n",
      "(29.335361738209762, 6.087462538345797e-08, 1, array([[ 74.13307241,  19.86692759],\n",
      "       [328.86692759,  88.13307241]]))\n"
     ]
    }
   ],
   "source": [
    "recode_2v5 = {2: 2, 5: 5}\n",
    "data4['Cancer_2v5']= data4['CancerCat'].map(recode_2v5)\n",
    "\n",
    "# contingency table of observed counts\n",
    "table_2v5=pd.crosstab(data4['Worker'], data4['Cancer_2v5'])\n",
    "print (table_2v5)\n",
    "\n",
    "# column percentages\n",
    "colsum=table_2v5.sum(axis=0)\n",
    "colpct=table_2v5/colsum\n",
    "print(colpct)\n",
    "\n",
    "print ('chi-square value, p value, expected counts')\n",
    "cs_2v5= scipy.stats.chi2_contingency(table_2v5)\n",
    "print (cs_2v5)"
   ]
  },
  {
   "cell_type": "code",
   "execution_count": 68,
   "metadata": {},
   "outputs": [
    {
     "name": "stdout",
     "output_type": "stream",
     "text": [
      "Cancer_2v6  2.0  6.0\n",
      "Worker              \n",
      "0            94    0\n",
      "1           309   49\n",
      "Cancer_2v6       2.0  6.0\n",
      "Worker                   \n",
      "0           0.233251  0.0\n",
      "1           0.766749  1.0\n",
      "chi-square value, p value, expected counts\n",
      "(13.048922428689643, 0.00030345895169809164, 1, array([[ 83.80973451,  10.19026549],\n",
      "       [319.19026549,  38.80973451]]))\n"
     ]
    }
   ],
   "source": [
    "recode_2v6 = {2: 2, 6: 6}\n",
    "data4['Cancer_2v6']= data4['CancerCat'].map(recode_2v6)\n",
    "\n",
    "# contingency table of observed counts\n",
    "table_2v6=pd.crosstab(data4['Worker'], data4['Cancer_2v6'])\n",
    "print (table_2v6)\n",
    "\n",
    "# column percentages\n",
    "colsum=table_2v6.sum(axis=0)\n",
    "colpct=table_2v6/colsum\n",
    "print(colpct)\n",
    "\n",
    "print ('chi-square value, p value, expected counts')\n",
    "cs_2v6= scipy.stats.chi2_contingency(table_2v6)\n",
    "print (cs_2v6)"
   ]
  },
  {
   "cell_type": "code",
   "execution_count": 69,
   "metadata": {},
   "outputs": [
    {
     "name": "stdout",
     "output_type": "stream",
     "text": [
      "Cancer_3v4  3.0  4.0\n",
      "Worker              \n",
      "0            81   16\n",
      "1           498  534\n",
      "Cancer_3v4       3.0       4.0\n",
      "Worker                        \n",
      "0           0.139896  0.029091\n",
      "1           0.860104  0.970909\n",
      "chi-square value, p value, expected counts\n",
      "(42.697083893803985, 6.390748928270934e-11, 1, array([[ 49.74579274,  47.25420726],\n",
      "       [529.25420726, 502.74579274]]))\n"
     ]
    }
   ],
   "source": [
    "recode_3v4 = {3: 3, 4: 4}\n",
    "data4['Cancer_3v4']= data4['CancerCat'].map(recode_3v4)\n",
    "\n",
    "# contingency table of observed counts\n",
    "table_3v4=pd.crosstab(data4['Worker'], data4['Cancer_3v4'])\n",
    "print (table_3v4)\n",
    "\n",
    "# column percentages\n",
    "colsum=table_3v4.sum(axis=0)\n",
    "colpct=table_3v4/colsum\n",
    "print(colpct)\n",
    "\n",
    "print ('chi-square value, p value, expected counts')\n",
    "cs_3v4= scipy.stats.chi2_contingency(table_3v4)\n",
    "print (cs_3v4)"
   ]
  },
  {
   "cell_type": "code",
   "execution_count": 70,
   "metadata": {},
   "outputs": [
    {
     "name": "stdout",
     "output_type": "stream",
     "text": [
      "Cancer_3v5  3.0  5.0\n",
      "Worker              \n",
      "0            81    0\n",
      "1           498  108\n",
      "Cancer_3v5       3.0  5.0\n",
      "Worker                   \n",
      "0           0.139896  0.0\n",
      "1           0.860104  1.0\n",
      "chi-square value, p value, expected counts\n",
      "(15.80958747361175, 7.00466697615442e-05, 1, array([[ 68.26637555,  12.73362445],\n",
      "       [510.73362445,  95.26637555]]))\n"
     ]
    }
   ],
   "source": [
    "recode_3v5 = {3: 3, 5: 5}\n",
    "data4['Cancer_3v5']= data4['CancerCat'].map(recode_3v5)\n",
    "\n",
    "# contingency table of observed counts\n",
    "table_3v5=pd.crosstab(data4['Worker'], data4['Cancer_3v5'])\n",
    "print (table_3v5)\n",
    "\n",
    "# column percentages\n",
    "colsum=table_3v5.sum(axis=0)\n",
    "colpct=table_3v5/colsum\n",
    "print(colpct)\n",
    "\n",
    "print ('chi-square value, p value, expected counts')\n",
    "cs_3v5= scipy.stats.chi2_contingency(table_3v5)\n",
    "print (cs_3v5)"
   ]
  },
  {
   "cell_type": "code",
   "execution_count": 71,
   "metadata": {},
   "outputs": [
    {
     "name": "stdout",
     "output_type": "stream",
     "text": [
      "Cancer_3v6  3.0  6.0\n",
      "Worker              \n",
      "0            81    0\n",
      "1           498   49\n",
      "Cancer_3v6       3.0  6.0\n",
      "Worker                   \n",
      "0           0.139896  0.0\n",
      "1           0.860104  1.0\n",
      "chi-square value, p value, expected counts\n",
      "(6.67401867206768, 0.009782835951614444, 1, array([[ 74.67993631,   6.32006369],\n",
      "       [504.32006369,  42.67993631]]))\n"
     ]
    }
   ],
   "source": [
    "recode_3v6 = {3: 3, 6: 6}\n",
    "data4['Cancer_3v6']= data4['CancerCat'].map(recode_3v6)\n",
    "\n",
    "# contingency table of observed counts\n",
    "table_3v6=pd.crosstab(data4['Worker'], data4['Cancer_3v6'])\n",
    "print (table_3v6)\n",
    "\n",
    "# column percentages\n",
    "colsum=table_3v6.sum(axis=0)\n",
    "colpct=table_3v6/colsum\n",
    "print(colpct)\n",
    "\n",
    "print ('chi-square value, p value, expected counts')\n",
    "cs_3v6= scipy.stats.chi2_contingency(table_3v6)\n",
    "print (cs_3v6)"
   ]
  },
  {
   "cell_type": "code",
   "execution_count": 72,
   "metadata": {},
   "outputs": [
    {
     "name": "stdout",
     "output_type": "stream",
     "text": [
      "Cancer_4v5  4.0  5.0\n",
      "Worker              \n",
      "0            16    0\n",
      "1           534  108\n",
      "Cancer_4v5       4.0  5.0\n",
      "Worker                   \n",
      "0           0.029091  0.0\n",
      "1           0.970909  1.0\n",
      "chi-square value, p value, expected counts\n",
      "(2.110667713610666, 0.14627548072716345, 1, array([[ 13.37386018,   2.62613982],\n",
      "       [536.62613982, 105.37386018]]))\n"
     ]
    }
   ],
   "source": [
    "recode_4v5 = {4: 4, 5: 5}\n",
    "data4['Cancer_4v5']= data4['CancerCat'].map(recode_4v5)\n",
    "\n",
    "# contingency table of observed counts\n",
    "table_4v5=pd.crosstab(data4['Worker'], data4['Cancer_4v5'])\n",
    "print (table_4v5)\n",
    "\n",
    "# column percentages\n",
    "colsum=table_4v5.sum(axis=0)\n",
    "colpct=table_4v5/colsum\n",
    "print(colpct)\n",
    "\n",
    "print ('chi-square value, p value, expected counts')\n",
    "cs_4v5= scipy.stats.chi2_contingency(table_4v5)\n",
    "print (cs_4v5)"
   ]
  },
  {
   "cell_type": "code",
   "execution_count": 73,
   "metadata": {},
   "outputs": [
    {
     "name": "stdout",
     "output_type": "stream",
     "text": [
      "Cancer_4v6  4.0  6.0\n",
      "Worker              \n",
      "0            16    0\n",
      "1           534   49\n",
      "Cancer_4v6       4.0  6.0\n",
      "Worker                   \n",
      "0           0.029091  0.0\n",
      "1           0.970909  1.0\n",
      "chi-square value, p value, expected counts\n",
      "(0.5593286665399048, 0.45453085952428596, 1, array([[ 14.69115192,   1.30884808],\n",
      "       [535.30884808,  47.69115192]]))\n"
     ]
    }
   ],
   "source": [
    "recode_4v6 = {4: 4, 6: 6}\n",
    "data4['Cancer_4v6']= data4['CancerCat'].map(recode_4v6)\n",
    "\n",
    "# contingency table of observed counts\n",
    "table_4v6=pd.crosstab(data4['Worker'], data4['Cancer_4v6'])\n",
    "print (table_4v6)\n",
    "\n",
    "# column percentages\n",
    "colsum=table_4v6.sum(axis=0)\n",
    "colpct=table_4v6/colsum\n",
    "print(colpct)\n",
    "\n",
    "print ('chi-square value, p value, expected counts')\n",
    "cs_4v6= scipy.stats.chi2_contingency(table_4v6)\n",
    "print (cs_4v6)"
   ]
  },
  {
   "cell_type": "code",
   "execution_count": 74,
   "metadata": {},
   "outputs": [
    {
     "name": "stdout",
     "output_type": "stream",
     "text": [
      "Cancer_5v6  5.0  6.0\n",
      "Worker              \n",
      "1           108   49\n",
      "Cancer_5v6  5.0  6.0\n",
      "Worker              \n",
      "1             1    1\n",
      "chi-square value, p value, expected counts\n",
      "(0.0, 1.0, 0, array([[108.,  49.]]))\n"
     ]
    }
   ],
   "source": [
    "recode_5v6 = {5: 5, 6: 6}\n",
    "data4['Cancer_5v6']= data4['CancerCat'].map(recode_5v6)\n",
    "\n",
    "# contingency table of observed counts\n",
    "table_5v6=pd.crosstab(data4['Worker'], data4['Cancer_5v6'])\n",
    "print (table_5v6)\n",
    "\n",
    "# column percentages\n",
    "colsum=table_5v6.sum(axis=0)\n",
    "colpct=table_5v6/colsum\n",
    "print(colpct)\n",
    "\n",
    "print ('chi-square value, p value, expected counts')\n",
    "cs_5v6= scipy.stats.chi2_contingency(table_5v6)\n",
    "print (cs_5v6)"
   ]
  },
  {
   "cell_type": "code",
   "execution_count": null,
   "metadata": {},
   "outputs": [],
   "source": []
  },
  {
   "cell_type": "code",
   "execution_count": null,
   "metadata": {},
   "outputs": [],
   "source": []
  },
  {
   "cell_type": "code",
   "execution_count": null,
   "metadata": {},
   "outputs": [],
   "source": []
  },
  {
   "cell_type": "code",
   "execution_count": null,
   "metadata": {},
   "outputs": [],
   "source": []
  }
 ],
 "metadata": {
  "kernelspec": {
   "display_name": "Python 3",
   "language": "python",
   "name": "python3"
  },
  "language_info": {
   "codemirror_mode": {
    "name": "ipython",
    "version": 3
   },
   "file_extension": ".py",
   "mimetype": "text/x-python",
   "name": "python",
   "nbconvert_exporter": "python",
   "pygments_lexer": "ipython3",
   "version": "3.7.1"
  }
 },
 "nbformat": 4,
 "nbformat_minor": 2
}
